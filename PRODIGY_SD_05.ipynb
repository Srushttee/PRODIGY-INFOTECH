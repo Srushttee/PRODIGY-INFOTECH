{
 "cells": [
  {
   "cell_type": "code",
   "execution_count": 4,
   "id": "d1d5910b",
   "metadata": {},
   "outputs": [
    {
     "name": "stdout",
     "output_type": "stream",
     "text": [
      "Extracted 23 products.\n",
      "Product information saved to 'amazon_products.csv'.\n"
     ]
    }
   ],
   "source": [
    "import requests\n",
    "from bs4 import BeautifulSoup\n",
    "import csv\n",
    "\n",
    "def scrape_website(url):\n",
    "    headers = {'User-Agent': 'Mozilla/5.0 (Windows NT 10.0; Win64; x64) AppleWebKit/537.36 (KHTML, like Gecko) Chrome/58.0.3029.110 Safari/537.3'}\n",
    "    response = requests.get(url, headers=headers)\n",
    "    if response.status_code == 200:\n",
    "        return response.text\n",
    "    else:\n",
    "        print(\"Failed to fetch the webpage.\")\n",
    "        return None\n",
    "\n",
    "def extract_product_info(html):\n",
    "    soup = BeautifulSoup(html, 'html.parser')\n",
    "    products = []\n",
    "\n",
    "    # Extract product names, prices, and ratings\n",
    "    for product in soup.find_all('div', class_='sg-col-inner'):\n",
    "        name_elem = product.find('span', class_='a-size-medium')\n",
    "        if name_elem:\n",
    "            name = name_elem.text.strip()\n",
    "            price_elem = product.find('span', class_='a-price')\n",
    "            price = price_elem.find('span', class_='a-offscreen').text.strip() if price_elem else 'Not available'\n",
    "            rating_elem = product.find('span', class_='a-icon-alt')\n",
    "            rating = rating_elem.text.strip() if rating_elem else 'Not available'\n",
    "            products.append({'Name': name, 'Price': price, 'Rating': rating})\n",
    "\n",
    "    return products\n",
    "\n",
    "def save_to_csv(products, filename):\n",
    "    with open(filename, 'w', newline='', encoding='utf-8') as csvfile:\n",
    "        fieldnames = ['Name', 'Price', 'Rating']\n",
    "        writer = csv.DictWriter(csvfile, fieldnames=fieldnames)\n",
    "        writer.writeheader()\n",
    "        for product in products:\n",
    "            writer.writerow(product)\n",
    "\n",
    "# URL of the e-commerce website to scrape (Amazon India in this case)\n",
    "url = 'https://www.amazon.in/s?k=laptops'\n",
    "\n",
    "# Scrape the website\n",
    "html = scrape_website(url)\n",
    "\n",
    "# Extract product information\n",
    "if html:\n",
    "    products = extract_product_info(html)\n",
    "    print(f\"Extracted {len(products)} products.\")\n",
    "\n",
    "    # Save product information to a CSV file\n",
    "    filename = 'amazon_products.csv'\n",
    "    save_to_csv(products, filename)\n",
    "    print(f\"Product information saved to '{filename}'.\")\n"
   ]
  },
  {
   "cell_type": "code",
   "execution_count": null,
   "id": "18868807",
   "metadata": {},
   "outputs": [],
   "source": []
  }
 ],
 "metadata": {
  "kernelspec": {
   "display_name": "Python 3 (ipykernel)",
   "language": "python",
   "name": "python3"
  },
  "language_info": {
   "codemirror_mode": {
    "name": "ipython",
    "version": 3
   },
   "file_extension": ".py",
   "mimetype": "text/x-python",
   "name": "python",
   "nbconvert_exporter": "python",
   "pygments_lexer": "ipython3",
   "version": "3.11.5"
  }
 },
 "nbformat": 4,
 "nbformat_minor": 5
}
